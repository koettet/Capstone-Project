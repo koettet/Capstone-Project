{
 "cells": [
  {
   "cell_type": "markdown",
   "metadata": {
    "tags": []
   },
   "source": [
    "# Automated ML\n",
    "\n",
    "TODO: Import Dependencies. In the cell below, import all the dependencies that you will need to complete the project."
   ]
  },
  {
   "cell_type": "code",
   "execution_count": null,
   "metadata": {
    "gather": {
     "logged": 1643138414144
    },
    "nteract": {
     "transient": {
      "deleting": false
     }
    },
    "tags": []
   },
   "outputs": [],
   "source": [
    "import logging\n",
    "import os\n",
    "import csv\n",
    "\n",
    "from matplotlib import pyplot as plt\n",
    "import numpy as np\n",
    "import pandas as pd\n",
    "from sklearn import datasets\n",
    "from sklearn.externals import joblib\n",
    "import pkg_resources\n",
    "\n",
    "import azureml.core\n",
    "from azureml.core.experiment import Experiment\n",
    "from azureml.core.workspace import Workspace\n",
    "from azureml.train.automl import AutoMLConfig\n",
    "from azureml.core.dataset import Dataset\n",
    "from azureml.widgets import RunDetails\n",
    "from azureml.core.compute import AmlCompute\n",
    "from azureml.core.compute import ComputeTarget\n",
    "from azureml.core.compute_target import ComputeTargetException\n",
    "\n",
    "from azureml.core.model import Model\n",
    "from azureml.core.model import InferenceConfig, Model\n",
    "from azureml.core.webservice import AciWebservice, Webservice\n",
    "from azureml.core.environment import Environment\n",
    "\n",
    "from azureml.data.dataset_factory import TabularDatasetFactory\n",
    "\n",
    "import requests\n",
    "import json\n"
   ]
  },
  {
   "cell_type": "markdown",
   "metadata": {
    "tags": []
   },
   "source": [
    "## Compute Target"
   ]
  },
  {
   "cell_type": "code",
   "execution_count": null,
   "metadata": {
    "gather": {
     "logged": 1643138417142
    }
   },
   "outputs": [],
   "source": [
    "ws = Workspace.from_config()\n",
    "print(ws.name, ws.resource_group, ws.location, ws.subscription_id, sep = '\\n')\n",
    "\n",
    "# NOTE: update the cluster name to match the existing cluster\n",
    "# Choose a name for your CPU cluster\n",
    "amlcompute_cluster_name = \"compute-cluster\"\n",
    "\n",
    "# Verify that cluster does not exist already\n",
    "try:\n",
    "    compute_target = ComputeTarget(workspace=ws, name=amlcompute_cluster_name)\n",
    "    print('Found existing cluster, use it.')\n",
    "except ComputeTargetException:\n",
    "    compute_config = AmlCompute.provisioning_configuration(vm_size='STANDARD_D2_V2',\n",
    "                                                           min_nodes=1,\n",
    "                                                           max_nodes=6)\n",
    "    compute_target = ComputeTarget.create(ws, amlcompute_cluster_name, compute_config)\n",
    "\n",
    "compute_target.wait_for_completion(show_output=True, min_node_count = 1, timeout_in_minutes = 10)"
   ]
  },
  {
   "cell_type": "markdown",
   "metadata": {
    "tags": []
   },
   "source": [
    "## Dataset\n",
    "\n",
    "### Overview\n",
    "TODO: In this markdown cell, give an overview of the dataset you are using. Also mention the task you will be performing.\n",
    "\n",
    "\n",
    "TODO: Get data. In the cell below, write code to access the data you will be using in this project. Remember that the dataset needs to be external."
   ]
  },
  {
   "cell_type": "code",
   "execution_count": null,
   "metadata": {
    "gather": {
     "logged": 1643138421421
    },
    "jupyter": {
     "outputs_hidden": false,
     "source_hidden": false
    },
    "nteract": {
     "transient": {
      "deleting": false
     }
    }
   },
   "outputs": [],
   "source": [
    "# choose a name for experiment\n",
    "experiment_name = 'heart_exp_aml'\n",
    "project_folder = './'\n",
    "\n",
    "experiment=Experiment(ws, experiment_name)\n",
    "\n",
    "# Try to load the dataset from the Workspace. Otherwise, create it from the file\n",
    "# NOTE: update the key to match the dataset name\n",
    "found = False\n",
    "key = \"heart-data\"\n",
    "description_text = \"Heart desease data for capstone project\"\n",
    "\n",
    "if key in ws.datasets.keys(): \n",
    "        found = True\n",
    "        dataset = ws.datasets[key] \n",
    "\n",
    "if not found:\n",
    "        # Create AML Dataset and register it into Workspace\n",
    "        example_data = \"https://github.com/koettet/Capstone-Project/blob/9bc802ff0216f3eb846a883f358593ce7b28c03d/starter_file/heart.csv\"\n",
    "        dataset = Dataset.Tabular.from_delimited_files(example_data)        \n",
    "        #Register Dataset in Workspace\n",
    "        dataset = dataset.register(workspace=ws,\n",
    "                                   name=key,\n",
    "                                   description=description_text)\n",
    "\n",
    "\n",
    "df = dataset.to_pandas_dataframe()\n",
    "df.describe()"
   ]
  },
  {
   "cell_type": "markdown",
   "metadata": {},
   "source": [
    "## AutoML Configuration\n",
    "\n",
    "TODO: Explain why you chose the automl settings and cofiguration you used below."
   ]
  },
  {
   "cell_type": "code",
   "execution_count": null,
   "metadata": {
    "gather": {
     "logged": 1643138425036
    },
    "jupyter": {
     "outputs_hidden": false,
     "source_hidden": false
    },
    "nteract": {
     "transient": {
      "deleting": false
     }
    }
   },
   "outputs": [],
   "source": [
    "# TODO: Put your automl settings here\n",
    "automl_settings = {\n",
    "    \"experiment_timeout_minutes\": 20,\n",
    "    \"max_concurrent_iterations\": 5,\n",
    "    \"primary_metric\" : 'AUC_weighted'\n",
    "}\n",
    "\n",
    "# TODO: Put your automl config here\n",
    "automl_config = AutoMLConfig(compute_target=compute_target,\n",
    "                             task = \"classification\",\n",
    "                             training_data=dataset,\n",
    "                             label_column_name=\"target\",   \n",
    "                             path = project_folder,\n",
    "                             enable_early_stopping= True,\n",
    "                             featurization= 'auto',\n",
    "                             debug_log = \"automl_errors.log\",\n",
    "                             **automl_settings\n",
    "                            )"
   ]
  },
  {
   "cell_type": "code",
   "execution_count": null,
   "metadata": {
    "gather": {
     "logged": 1643139297740
    },
    "jupyter": {
     "outputs_hidden": false,
     "source_hidden": false
    },
    "nteract": {
     "transient": {
      "deleting": false
     }
    }
   },
   "outputs": [],
   "source": [
    "# TODO: Submit your experiment\n",
    "remote_run = experiment.submit(automl_config)\n",
    "remote_run.wait_for_completion(show_output=True)"
   ]
  },
  {
   "cell_type": "markdown",
   "metadata": {},
   "source": [
    "## Run Details\n",
    "\n",
    "OPTIONAL: Write about the different models trained and their performance. Why do you think some models did better than others?\n",
    "\n",
    "TODO: In the cell below, use the `RunDetails` widget to show the different experiments."
   ]
  },
  {
   "cell_type": "code",
   "execution_count": null,
   "metadata": {
    "gather": {
     "logged": 1643139298099
    },
    "jupyter": {
     "outputs_hidden": false,
     "source_hidden": false
    },
    "nteract": {
     "transient": {
      "deleting": false
     }
    }
   },
   "outputs": [],
   "source": [
    "# Show details of run\n",
    "RunDetails(remote_run).show()"
   ]
  },
  {
   "cell_type": "markdown",
   "metadata": {},
   "source": [
    "## Best Model\n",
    "\n",
    "TODO: In the cell below, get the best model from the automl experiments and display all the properties of the model.\n",
    "\n"
   ]
  },
  {
   "cell_type": "code",
   "execution_count": null,
   "metadata": {
    "gather": {
     "logged": 1643139544347
    },
    "jupyter": {
     "outputs_hidden": false,
     "source_hidden": false
    },
    "nteract": {
     "transient": {
      "deleting": false
     }
    }
   },
   "outputs": [],
   "source": [
    "best_run, fitted_model = remote_run.get_output()\n",
    "\n",
    "best_run\n",
    "fitted_model\n",
    "\n",
    "# print(best_run)\n",
    "\n",
    "# print(fitted_model)\n",
    "\n",
    "# Print model steps\n",
    "# print(fitted_model.steps)   "
   ]
  },
  {
   "cell_type": "markdown",
   "metadata": {},
   "source": [
    "## Model Deployment\n",
    "\n",
    "Remember you have to deploy only one of the two models you trained but you still need to register both the models. Perform the steps in the rest of this notebook only if you wish to deploy this model.\n",
    "\n",
    "TODO: In the cell below, register the model, create an inference config and deploy the model as a web service."
   ]
  },
  {
   "cell_type": "code",
   "execution_count": null,
   "metadata": {
    "gather": {
     "logged": 1643058290178
    }
   },
   "outputs": [],
   "source": [
    "script_file_name = 'inference/score.py'\n",
    "best_run.download_file('outputs/scoring_file_v_1_0_0.py', 'inference/score.py')\n",
    "\n",
    "model_name = best_run.properties['model_name']\n",
    "description = 'Best model to of AML to predict heart conditions'\n",
    "\n",
    "model = remote_run.register_model(model_name = model_name,\n",
    "                           tags = None,\n",
    "                           description = description)\n",
    "\n",
    "print(remote_run.model_id)\n",
    "\n",
    "inference_config = InferenceConfig(environment=best_run.get_environment(), entry_script=script_file_name)\n",
    "\n",
    "deployment_config = AciWebservice.deploy_configuration(\n",
    "    cpu_cores=1, \n",
    "    memory_gb=1,\n",
    "    tags = {'type': 'automl-classification'},\n",
    "    description = 'Service to classify heart data.'\n",
    ")\n",
    "\n",
    "service = Model.deploy(\n",
    "    ws,\n",
    "    \"heart-service\",\n",
    "    [model],\n",
    "    inference_config,\n",
    "    deployment_config,\n",
    "    overwrite=True,\n",
    ")\n",
    "\n",
    "service.wait_for_deployment(show_output=True)\n",
    "print(service.state)"
   ]
  },
  {
   "cell_type": "code",
   "execution_count": null,
   "metadata": {},
   "outputs": [],
   "source": [
    "\n",
    "data = {\n",
    "\n",
    "            \"data\": [ {\n",
    "\n",
    "                \"age\": 51,\n",
    "\n",
    "                \"sex\": 0,\n",
    "\n",
    "                \"cp\": 1,\n",
    "\n",
    "                \"trestbps\": 125,\n",
    "\n",
    "                \"chol\": 301,\n",
    "\n",
    "                \"fbs\": 1,\n",
    "\n",
    "                \"restecg\": 1,\n",
    "\n",
    "                \"thalach\": 160,\n",
    "\n",
    "                \"exang\": 0,\n",
    "\n",
    "                \"oldpeak\": 0.3,\n",
    "\n",
    "                \"slope\": 2,\n",
    "\n",
    "                \"ca\": 0,\n",
    "\n",
    "                \"thal\": 2\n",
    "\n",
    "         }, {\n",
    "\n",
    "                \"age\": 57,\n",
    "\n",
    "                \"sex\": 1,\n",
    "\n",
    "                \"cp\": 0,\n",
    "\n",
    "                \"trestbps\": 98,\n",
    "\n",
    "                \"chol\": 226,\n",
    "\n",
    "                \"fbs\": 0,\n",
    "\n",
    "                \"restecg\": 1,\n",
    "\n",
    "                \"thalach\": 150,\n",
    "\n",
    "                \"exang\": 0,\n",
    "\n",
    "                \"oldpeak\": 2.5,\n",
    "\n",
    "                \"slope\": 2,\n",
    "\n",
    "                \"ca\": 1,\n",
    "\n",
    "                \"thal\": 3\n",
    "        },],\n",
    "}\n",
    "\n",
    "# Convert to JSON string\n",
    "samp = json.dumps(data)\n",
    "\n",
    "resp = service.run(input_data = samp)\n",
    "resp"
   ]
  },
  {
   "cell_type": "markdown",
   "metadata": {
    "gather": {
     "logged": 1598431657736
    },
    "jupyter": {
     "outputs_hidden": false,
     "source_hidden": false
    },
    "nteract": {
     "transient": {
      "deleting": false
     }
    }
   },
   "source": [
    "TODO: In the cell below, send a request to the web service you deployed to test it."
   ]
  },
  {
   "cell_type": "code",
   "execution_count": null,
   "metadata": {
    "gather": {
     "logged": 1643058373662
    }
   },
   "outputs": [],
   "source": [
    "import requests\n",
    "\n",
    "service = Webservice(workspace=ws, name=\"heart-service\")\n",
    "scoring_uri = service.scoring_uri\n",
    "\n",
    "# If the service is authenticated, set the key or token\n",
    "key, _ = service.get_keys()\n",
    "\n",
    "# Set the appropriate headers\n",
    "headers = {\"Content-Type\": \"application/json\"}\n",
    "headers[\"Authorization\"] = f\"Bearer {key}\"\n",
    "\n",
    "# Make the request and display the response and logs\n",
    "# data = pd.DataFrame(\n",
    "#     {\"age\": pd.Series([51, 57], dtype=\"int64\"), \n",
    "#      \"sec\": pd.Series([0, 1], dtype=\"int64\"), \n",
    "#      \"cp\": pd.Series([1, 0], dtype=\"int64\"), \n",
    "#      \"trestbps\": pd.Series([125, 98], dtype=\"int64\"), \n",
    "#      \"chol\": pd.Series([301, 226], dtype=\"int64\"), \n",
    "#      \"fbs\": pd.Series([1, 0], dtype=\"int64\"), \n",
    "#      \"restecg\": pd.Series([1, 1], dtype=\"int64\"), \n",
    "#      \"thalach\": pd.Series([160, 150], dtype=\"int64\"), \n",
    "#      \"exang\": pd.Series([0, 0], dtype=\"int64\"), \n",
    "#      \"oldpeak\": pd.Series([0.3, 2.5], dtype=\"float64\"), \n",
    "#      \"ca\": pd.Series([0, 1], dtype=\"int64\"), \n",
    "#      \"thal\": pd.Series([2, 3], dtype=\"int64\")}\n",
    "\n",
    "\n",
    "data = {\n",
    "\n",
    "            \"data\": [ {\n",
    "\n",
    "                \"age\": 51,\n",
    "\n",
    "                \"sex\": 0,\n",
    "\n",
    "                \"cp\": 1,\n",
    "\n",
    "                \"trestbps\": 125,\n",
    "\n",
    "                \"chol\": 301,\n",
    "\n",
    "                \"fbs\": 1,\n",
    "\n",
    "                \"restecg\": 1,\n",
    "\n",
    "                \"thalach\": 160,\n",
    "\n",
    "                \"exang\": 0,\n",
    "\n",
    "                \"oldpeak\": 0.3,\n",
    "\n",
    "                \"slope\": 2,\n",
    "\n",
    "                \"ca\": 0,\n",
    "\n",
    "                \"thal\": 2\n",
    "\n",
    "         }, {\n",
    "\n",
    "                \"age\": 57,\n",
    "\n",
    "                \"sex\": 1,\n",
    "\n",
    "                \"cp\": 0,\n",
    "\n",
    "                \"trestbps\": 98,\n",
    "\n",
    "                \"chol\": 226,\n",
    "\n",
    "                \"fbs\": 0,\n",
    "\n",
    "                \"restecg\": 1,\n",
    "\n",
    "                \"thalach\": 150,\n",
    "\n",
    "                \"exang\": 0,\n",
    "\n",
    "                \"oldpeak\": 2.5,\n",
    "\n",
    "                \"slope\": 2,\n",
    "\n",
    "                \"ca\": 1,\n",
    "\n",
    "                \"thal\": 3\n",
    "        },],\n",
    "}\n",
    "\n",
    "# Convert to JSON string\n",
    "input_data = json.dumps(data)\n",
    "\n",
    "# Set the content type\n",
    "headers = {'Content-Type': 'application/json'}\n",
    "# If authentication is enabled, set the authorization header\n",
    "headers['Authorization'] = f'Bearer {key}'\n",
    "\n",
    "# Make the request and display the response\n",
    "# resp = requests.post(scoring_uri, input_data, headers=headers)\n",
    "resp = service.run(input_data)\n",
    "print(resp)"
   ]
  },
  {
   "cell_type": "markdown",
   "metadata": {
    "gather": {
     "logged": 1598432765711
    },
    "jupyter": {
     "outputs_hidden": false,
     "source_hidden": false
    },
    "nteract": {
     "transient": {
      "deleting": false
     }
    }
   },
   "source": [
    "TODO: In the cell below, print the logs of the web service and delete the service"
   ]
  },
  {
   "cell_type": "code",
   "execution_count": null,
   "metadata": {
    "gather": {
     "logged": 1643046860781
    },
    "jupyter": {
     "outputs_hidden": false,
     "source_hidden": false
    },
    "nteract": {
     "transient": {
      "deleting": false
     }
    }
   },
   "outputs": [],
   "source": [
    "# load existing web service\n",
    "# service = Webservice(name='heart-service', workspace=ws)\n",
    "logs = service.get_logs()\n",
    "for line in logs.split('\\n'):\n",
    "    print(line)\n",
    "    \n",
    "# service.delete()\n",
    "# compute_target.delete()\n",
    "# model.delete()  "
   ]
  },
  {
   "cell_type": "markdown",
   "metadata": {},
   "source": [
    "**Submission Checklist**\n",
    "- I have registered the model.\n",
    "- I have deployed the model with the best accuracy as a webservice.\n",
    "- I have tested the webservice by sending a request to the model endpoint.\n",
    "- I have deleted the webservice and shutdown all the computes that I have used.\n",
    "- I have taken a screenshot showing the model endpoint as active.\n",
    "- The project includes a file containing the environment details.\n"
   ]
  },
  {
   "cell_type": "markdown",
   "metadata": {},
   "source": []
  }
 ],
 "metadata": {
  "kernel_info": {
   "name": "python3"
  },
  "kernelspec": {
   "display_name": "Python 3 (ipykernel)",
   "language": "python",
   "name": "python3"
  },
  "language_info": {
   "codemirror_mode": {
    "name": "ipython",
    "version": 3
   },
   "file_extension": ".py",
   "mimetype": "text/x-python",
   "name": "python",
   "nbconvert_exporter": "python",
   "pygments_lexer": "ipython3",
   "version": "3.10.2"
  },
  "microsoft": {
   "host": {
    "AzureML": {
     "notebookHasBeenCompleted": true
    }
   }
  },
  "nteract": {
   "version": "nteract-front-end@1.0.0"
  }
 },
 "nbformat": 4,
 "nbformat_minor": 4
}
